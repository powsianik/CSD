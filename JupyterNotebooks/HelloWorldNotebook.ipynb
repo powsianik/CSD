{
 "cells": [
  {
   "cell_type": "markdown",
   "metadata": {
    "collapsed": true
   },
   "source": [
    "# ---------- DSP2017 Project ----------\n",
    "## Movies preferences from music preferences\n",
    "# ----------------------------------------------"
   ]
  },
  {
   "cell_type": "markdown",
   "metadata": {},
   "source": [
    "### Import libraries:"
   ]
  },
  {
   "cell_type": "code",
   "execution_count": 32,
   "metadata": {
    "collapsed": true
   },
   "outputs": [],
   "source": [
    "import pandas as pnd\n",
    "import numpy as np"
   ]
  },
  {
   "cell_type": "markdown",
   "metadata": {},
   "source": [
    "## PREPARING MODEL:"
   ]
  },
  {
   "cell_type": "markdown",
   "metadata": {},
   "source": [
    "### Loading data"
   ]
  },
  {
   "cell_type": "code",
   "execution_count": 33,
   "metadata": {
    "collapsed": true
   },
   "outputs": [],
   "source": [
    "dFrame = pnd.read_csv(\"./data/music_and_movies_responses.csv\")"
   ]
  },
  {
   "cell_type": "code",
   "execution_count": 34,
   "metadata": {
    "collapsed": false
   },
   "outputs": [
    {
     "data": {
      "text/html": [
       "<div>\n",
       "<table border=\"1\" class=\"dataframe\">\n",
       "  <thead>\n",
       "    <tr style=\"text-align: right;\">\n",
       "      <th></th>\n",
       "      <th>Music</th>\n",
       "      <th>Slow songs or fast songs</th>\n",
       "      <th>Dance</th>\n",
       "      <th>Folk</th>\n",
       "      <th>Country</th>\n",
       "      <th>Classical music</th>\n",
       "      <th>Musical</th>\n",
       "      <th>Pop</th>\n",
       "      <th>Rock</th>\n",
       "      <th>Metal or Hardrock</th>\n",
       "      <th>...</th>\n",
       "      <th>Thriller</th>\n",
       "      <th>Comedy</th>\n",
       "      <th>Romantic</th>\n",
       "      <th>Sci-fi</th>\n",
       "      <th>War</th>\n",
       "      <th>Fantasy/Fairy tales</th>\n",
       "      <th>Animated</th>\n",
       "      <th>Documentary</th>\n",
       "      <th>Western</th>\n",
       "      <th>Action</th>\n",
       "    </tr>\n",
       "  </thead>\n",
       "  <tbody>\n",
       "    <tr>\n",
       "      <th>0</th>\n",
       "      <td>5.0</td>\n",
       "      <td>3.0</td>\n",
       "      <td>2.0</td>\n",
       "      <td>1.0</td>\n",
       "      <td>2.0</td>\n",
       "      <td>2.0</td>\n",
       "      <td>1.0</td>\n",
       "      <td>5.0</td>\n",
       "      <td>5.0</td>\n",
       "      <td>1.0</td>\n",
       "      <td>...</td>\n",
       "      <td>2.0</td>\n",
       "      <td>5.0</td>\n",
       "      <td>4.0</td>\n",
       "      <td>4.0</td>\n",
       "      <td>1.0</td>\n",
       "      <td>5.0</td>\n",
       "      <td>5.0</td>\n",
       "      <td>3.0</td>\n",
       "      <td>1.0</td>\n",
       "      <td>2.0</td>\n",
       "    </tr>\n",
       "    <tr>\n",
       "      <th>1</th>\n",
       "      <td>4.0</td>\n",
       "      <td>4.0</td>\n",
       "      <td>2.0</td>\n",
       "      <td>1.0</td>\n",
       "      <td>1.0</td>\n",
       "      <td>1.0</td>\n",
       "      <td>2.0</td>\n",
       "      <td>3.0</td>\n",
       "      <td>5.0</td>\n",
       "      <td>4.0</td>\n",
       "      <td>...</td>\n",
       "      <td>2.0</td>\n",
       "      <td>4.0</td>\n",
       "      <td>3.0</td>\n",
       "      <td>4.0</td>\n",
       "      <td>1.0</td>\n",
       "      <td>3.0</td>\n",
       "      <td>5.0</td>\n",
       "      <td>4.0</td>\n",
       "      <td>1.0</td>\n",
       "      <td>4.0</td>\n",
       "    </tr>\n",
       "    <tr>\n",
       "      <th>2</th>\n",
       "      <td>5.0</td>\n",
       "      <td>5.0</td>\n",
       "      <td>2.0</td>\n",
       "      <td>2.0</td>\n",
       "      <td>3.0</td>\n",
       "      <td>4.0</td>\n",
       "      <td>5.0</td>\n",
       "      <td>3.0</td>\n",
       "      <td>5.0</td>\n",
       "      <td>3.0</td>\n",
       "      <td>...</td>\n",
       "      <td>4.0</td>\n",
       "      <td>4.0</td>\n",
       "      <td>2.0</td>\n",
       "      <td>4.0</td>\n",
       "      <td>2.0</td>\n",
       "      <td>5.0</td>\n",
       "      <td>5.0</td>\n",
       "      <td>2.0</td>\n",
       "      <td>2.0</td>\n",
       "      <td>1.0</td>\n",
       "    </tr>\n",
       "    <tr>\n",
       "      <th>3</th>\n",
       "      <td>5.0</td>\n",
       "      <td>3.0</td>\n",
       "      <td>2.0</td>\n",
       "      <td>1.0</td>\n",
       "      <td>1.0</td>\n",
       "      <td>1.0</td>\n",
       "      <td>1.0</td>\n",
       "      <td>2.0</td>\n",
       "      <td>2.0</td>\n",
       "      <td>1.0</td>\n",
       "      <td>...</td>\n",
       "      <td>4.0</td>\n",
       "      <td>3.0</td>\n",
       "      <td>3.0</td>\n",
       "      <td>4.0</td>\n",
       "      <td>3.0</td>\n",
       "      <td>1.0</td>\n",
       "      <td>2.0</td>\n",
       "      <td>5.0</td>\n",
       "      <td>1.0</td>\n",
       "      <td>2.0</td>\n",
       "    </tr>\n",
       "    <tr>\n",
       "      <th>4</th>\n",
       "      <td>5.0</td>\n",
       "      <td>3.0</td>\n",
       "      <td>4.0</td>\n",
       "      <td>3.0</td>\n",
       "      <td>2.0</td>\n",
       "      <td>4.0</td>\n",
       "      <td>3.0</td>\n",
       "      <td>5.0</td>\n",
       "      <td>3.0</td>\n",
       "      <td>1.0</td>\n",
       "      <td>...</td>\n",
       "      <td>4.0</td>\n",
       "      <td>5.0</td>\n",
       "      <td>2.0</td>\n",
       "      <td>3.0</td>\n",
       "      <td>3.0</td>\n",
       "      <td>4.0</td>\n",
       "      <td>4.0</td>\n",
       "      <td>3.0</td>\n",
       "      <td>1.0</td>\n",
       "      <td>4.0</td>\n",
       "    </tr>\n",
       "  </tbody>\n",
       "</table>\n",
       "<p>5 rows × 31 columns</p>\n",
       "</div>"
      ],
      "text/plain": [
       "   Music  Slow songs or fast songs  Dance  Folk  Country  Classical music  \\\n",
       "0    5.0                       3.0    2.0   1.0      2.0              2.0   \n",
       "1    4.0                       4.0    2.0   1.0      1.0              1.0   \n",
       "2    5.0                       5.0    2.0   2.0      3.0              4.0   \n",
       "3    5.0                       3.0    2.0   1.0      1.0              1.0   \n",
       "4    5.0                       3.0    4.0   3.0      2.0              4.0   \n",
       "\n",
       "   Musical  Pop  Rock  Metal or Hardrock   ...    Thriller  Comedy  Romantic  \\\n",
       "0      1.0  5.0   5.0                1.0   ...         2.0     5.0       4.0   \n",
       "1      2.0  3.0   5.0                4.0   ...         2.0     4.0       3.0   \n",
       "2      5.0  3.0   5.0                3.0   ...         4.0     4.0       2.0   \n",
       "3      1.0  2.0   2.0                1.0   ...         4.0     3.0       3.0   \n",
       "4      3.0  5.0   3.0                1.0   ...         4.0     5.0       2.0   \n",
       "\n",
       "   Sci-fi  War  Fantasy/Fairy tales  Animated  Documentary  Western  Action  \n",
       "0     4.0  1.0                  5.0       5.0          3.0      1.0     2.0  \n",
       "1     4.0  1.0                  3.0       5.0          4.0      1.0     4.0  \n",
       "2     4.0  2.0                  5.0       5.0          2.0      2.0     1.0  \n",
       "3     4.0  3.0                  1.0       2.0          5.0      1.0     2.0  \n",
       "4     3.0  3.0                  4.0       4.0          3.0      1.0     4.0  \n",
       "\n",
       "[5 rows x 31 columns]"
      ]
     },
     "execution_count": 34,
     "metadata": {},
     "output_type": "execute_result"
    }
   ],
   "source": [
    "dFrame.shape # show number of (rows, columns)\n",
    "dFrame.head()"
   ]
  },
  {
   "cell_type": "markdown",
   "metadata": {
    "collapsed": true
   },
   "source": [
    "### Check if exists any null value in data frame"
   ]
  },
  {
   "cell_type": "code",
   "execution_count": 38,
   "metadata": {
    "collapsed": false
   },
   "outputs": [
    {
     "name": "stdout",
     "output_type": "stream",
     "text": [
      "True\n"
     ]
    }
   ],
   "source": [
    "isAnyNull = dFrame.isnull().values.any()\n",
    "print(isAnyNull)"
   ]
  },
  {
   "cell_type": "markdown",
   "metadata": {},
   "source": [
    "### Check if exists values not in scale ( < 1 or > 5)"
   ]
  },
  {
   "cell_type": "code",
   "execution_count": 54,
   "metadata": {
    "collapsed": false
   },
   "outputs": [
    {
     "name": "stdout",
     "output_type": "stream",
     "text": [
      "# rows in dataframe: 1010\n",
      "# rows are < 1 -Do you like music at all?-: 0\n",
      "# rows are < 1 -Slow or fast songs?-: 0\n",
      "# rows are < 1 -Do you like dance music?-: 0\n",
      "# rows are < 1 -Do you like folk music?-: 0\n",
      "# rows are < 1 -Do you like music country?-: 0\n",
      "# rows are < 1 -Do you like music classic?-: 0\n",
      "# rows are < 1 -Do you like music musical?-: 0\n",
      "# rows are < 1 -Do you like music pop?-: 0\n",
      "# rows are < 1 -Do you like music rock?-: 0\n",
      "# rows are < 1 -Do you like music metal?-: 0\n",
      "# rows are < 1 -Do you like music punk?-: 0\n",
      "# rows are < 1 -Do you like music rap?-: 0\n",
      "# rows are < 1 -Do you like music reggae?-: 0\n",
      "# rows are < 1 -Do you like music jazz?-: 0\n",
      "# rows are < 1 -Do you like music rock n'roll?-: 0\n",
      "# rows are < 1 -Do you like music alternative?-: 0\n",
      "# rows are < 1 -Do you like music laino?-: 0\n",
      "# rows are < 1 -Do you like music techno?-: 0\n",
      "# rows are < 1 -Do you like music opera?-: 0\n",
      "# rows are < 1 -Do you like movies at all?-: 0\n",
      "# rows are < 1 -Do you like horror?-: 0\n",
      "# rows are < 1 -Do you like thriller?-: 0\n",
      "# rows are < 1 -Do you like comedy?-: 0\n",
      "# rows are < 1 -Do you like romantic?-: 0\n",
      "# rows are < 1 -Do you like sci-fi?-: 0\n",
      "# rows are < 1 -Do you like war?-: 0\n",
      "# rows are < 1 -Do you like fantasy?-: 0\n",
      "# rows are < 1 -Do you like animated?-: 0\n",
      "# rows are < 1 -Do you like documentary?-: 0\n",
      "# rows are < 1 -Do you like western?-: 0\n",
      "# rows are < 1 -Do you like action?-: 0\n"
     ]
    }
   ],
   "source": [
    "print(\"# rows in dataframe: {0}\".format(len(dFrame)))\n",
    "print(\"# rows are < 1 -Do you like music at all?-: {0}\".format(len(dFrame.loc[dFrame['Music'] < 1])))\n",
    "print(\"# rows are < 1 -Slow or fast songs?-: {0}\".format(len(dFrame.loc[dFrame[\"Slow songs or fast songs\"] < 1])))\n",
    "print(\"# rows are < 1 -Do you like dance music?-: {0}\".format(len(dFrame.loc[dFrame[\"Dance\"] < 1])))\n",
    "print(\"# rows are < 1 -Do you like folk music?-: {0}\".format(len(dFrame.loc[dFrame[\"Folk\"] < 1])))\n",
    "print(\"# rows are < 1 -Do you like music country?-: {0}\".format(len(dFrame.loc[dFrame[\"Country\"] < 1])))\n",
    "print(\"# rows are < 1 -Do you like music classic?-: {0}\".format(len(dFrame.loc[dFrame[\"Classical music\"] < 1])))\n",
    "print(\"# rows are < 1 -Do you like music musical?-: {0}\".format(len(dFrame.loc[dFrame[\"Musical\"] < 1])))\n",
    "print(\"# rows are < 1 -Do you like music pop?-: {0}\".format(len(dFrame.loc[dFrame[\"Pop\"] < 1])))\n",
    "print(\"# rows are < 1 -Do you like music rock?-: {0}\".format(len(dFrame.loc[dFrame[\"Rock\"] < 1])))\n",
    "print(\"# rows are < 1 -Do you like music metal?-: {0}\".format(len(dFrame.loc[dFrame[\"Metal or Hardrock\"]  < 1])))\n",
    "print(\"# rows are < 1 -Do you like music punk?-: {0}\".format(len(dFrame.loc[dFrame[\"Punk\"] < 1])))\n",
    "print(\"# rows are < 1 -Do you like music rap?-: {0}\".format(len(dFrame.loc[dFrame[\"Hiphop, Rap\"] < 1])))\n",
    "print(\"# rows are < 1 -Do you like music reggae?-: {0}\".format(len(dFrame.loc[dFrame[\"Reggae, Ska\"] < 1])))\n",
    "print(\"# rows are < 1 -Do you like music jazz?-: {0}\".format(len(dFrame.loc[dFrame[\"Swing, Jazz\"] < 1])))\n",
    "print(\"# rows are < 1 -Do you like music rock n'roll?-: {0}\".format(len(dFrame.loc[dFrame[\"Rock n roll\"] < 1])))\n",
    "print(\"# rows are < 1 -Do you like music alternative?-: {0}\".format(len(dFrame.loc[dFrame[\"Alternative\"] < 1])))\n",
    "print(\"# rows are < 1 -Do you like music laino?-: {0}\".format(len(dFrame.loc[dFrame[\"Latino\"] < 1])))\n",
    "print(\"# rows are < 1 -Do you like music techno?-: {0}\".format(len(dFrame.loc[dFrame[\"Techno, Trance\"] < 1])))\n",
    "print(\"# rows are < 1 -Do you like music opera?-: {0}\".format(len(dFrame.loc[dFrame[\"Opera\"] < 1])))\n",
    "print(\"# rows are < 1 -Do you like movies at all?-: {0}\".format(len(dFrame.loc[dFrame['Movies'] < 1])))\n",
    "print(\"# rows are < 1 -Do you like horror?-: {0}\".format(len(dFrame.loc[dFrame['Horror'] < 1])))\n",
    "print(\"# rows are < 1 -Do you like thriller?-: {0}\".format(len(dFrame.loc[dFrame['Thriller'] < 1])))\n",
    "print(\"# rows are < 1 -Do you like comedy?-: {0}\".format(len(dFrame.loc[dFrame['Comedy'] < 1])))\n",
    "print(\"# rows are < 1 -Do you like romantic?-: {0}\".format(len(dFrame.loc[dFrame['Romantic'] < 1])))\n",
    "print(\"# rows are < 1 -Do you like sci-fi?-: {0}\".format(len(dFrame.loc[dFrame['Sci-fi'] < 1])))\n",
    "print(\"# rows are < 1 -Do you like war?-: {0}\".format(len(dFrame.loc[dFrame['War'] < 1])))\n",
    "print(\"# rows are < 1 -Do you like fantasy?-: {0}\".format(len(dFrame.loc[dFrame['Fantasy/Fairy tales'] < 1])))\n",
    "print(\"# rows are < 1 -Do you like animated?-: {0}\".format(len(dFrame.loc[dFrame['Animated'] < 1])))\n",
    "print(\"# rows are < 1 -Do you like documentary?-: {0}\".format(len(dFrame.loc[dFrame['Documentary'] < 1])))\n",
    "print(\"# rows are < 1 -Do you like western?-: {0}\".format(len(dFrame.loc[dFrame['Western'] < 1])))\n",
    "print(\"# rows are < 1 -Do you like action?-: {0}\".format(len(dFrame.loc[dFrame['Action'] < 1])))"
   ]
  },
  {
   "cell_type": "code",
   "execution_count": 55,
   "metadata": {
    "collapsed": false
   },
   "outputs": [
    {
     "name": "stdout",
     "output_type": "stream",
     "text": [
      "# rows in dataframe: 1010\n",
      "# rows are > 5 -Do you like music at all?-: 0\n",
      "# rows are > 5 -Slow or fast songs?-: 0\n",
      "# rows are > 5 -Do you like dance music?-: 0\n",
      "# rows are > 5 -Do you like folk music?-: 0\n",
      "# rows are > 5 -Do you like music country?-: 0\n",
      "# rows are > 5 -Do you like music classic?-: 0\n",
      "# rows are > 5 -Do you like music musical?-: 0\n",
      "# rows are > 5 -Do you like music pop?-: 0\n",
      "# rows are > 5 -Do you like music rock?-: 0\n",
      "# rows are > 5 -Do you like music metal?-: 0\n",
      "# rows are > 5 -Do you like music punk?-: 0\n",
      "# rows are > 5 -Do you like music rap?-: 0\n",
      "# rows are > 5 -Do you like music reggae?-: 0\n",
      "# rows are > 5 -Do you like music jazz?-: 0\n",
      "# rows are > 5 -Do you like music rock n'roll?-: 0\n",
      "# rows are > 5 -Do you like music alternative?-: 0\n",
      "# rows are > 5 -Do you like music laino?-: 0\n",
      "# rows are > 5 -Do you like music techno?-: 0\n",
      "# rows are > 5 -Do you like music opera?-: 0\n",
      "# rows are > 5 -Do you like movies at all?-: 0\n",
      "# rows are > 5 -Do you like horror?-: 0\n",
      "# rows are > 5 -Do you like thriller?-: 0\n",
      "# rows are > 5 -Do you like comedy?-: 0\n",
      "# rows are > 5 -Do you like romantic?-: 0\n",
      "# rows are > 5 -Do you like sci-fi?-: 0\n",
      "# rows are > 5 -Do you like war?-: 0\n",
      "# rows are > 5 -Do you like fantasy?-: 0\n",
      "# rows are > 5 -Do you like animated?-: 0\n",
      "# rows are > 5 -Do you like documentary?-: 0\n",
      "# rows are > 5 -Do you like western?-: 0\n",
      "# rows are > 5 -Do you like action?-: 0\n"
     ]
    }
   ],
   "source": [
    "print(\"# rows in dataframe: {0}\".format(len(dFrame)))\n",
    "print(\"# rows are > 5 -Do you like music at all?-: {0}\".format(len(dFrame.loc[dFrame['Music'] > 5])))\n",
    "print(\"# rows are > 5 -Slow or fast songs?-: {0}\".format(len(dFrame.loc[dFrame[\"Slow songs or fast songs\"] > 5])))\n",
    "print(\"# rows are > 5 -Do you like dance music?-: {0}\".format(len(dFrame.loc[dFrame[\"Dance\"] > 5])))\n",
    "print(\"# rows are > 5 -Do you like folk music?-: {0}\".format(len(dFrame.loc[dFrame[\"Folk\"] > 5])))\n",
    "print(\"# rows are > 5 -Do you like music country?-: {0}\".format(len(dFrame.loc[dFrame[\"Country\"] > 5])))\n",
    "print(\"# rows are > 5 -Do you like music classic?-: {0}\".format(len(dFrame.loc[dFrame[\"Classical music\"] > 5])))\n",
    "print(\"# rows are > 5 -Do you like music musical?-: {0}\".format(len(dFrame.loc[dFrame[\"Musical\"] > 5])))\n",
    "print(\"# rows are > 5 -Do you like music pop?-: {0}\".format(len(dFrame.loc[dFrame[\"Pop\"] > 5])))\n",
    "print(\"# rows are > 5 -Do you like music rock?-: {0}\".format(len(dFrame.loc[dFrame[\"Rock\"] > 5])))\n",
    "print(\"# rows are > 5 -Do you like music metal?-: {0}\".format(len(dFrame.loc[dFrame[\"Metal or Hardrock\"] > 5])))\n",
    "print(\"# rows are > 5 -Do you like music punk?-: {0}\".format(len(dFrame.loc[dFrame[\"Punk\"] > 5])))\n",
    "print(\"# rows are > 5 -Do you like music rap?-: {0}\".format(len(dFrame.loc[dFrame[\"Hiphop, Rap\"] > 5])))\n",
    "print(\"# rows are > 5 -Do you like music reggae?-: {0}\".format(len(dFrame.loc[dFrame[\"Reggae, Ska\"] > 5])))\n",
    "print(\"# rows are > 5 -Do you like music jazz?-: {0}\".format(len(dFrame.loc[dFrame[\"Swing, Jazz\"] > 5])))\n",
    "print(\"# rows are > 5 -Do you like music rock n'roll?-: {0}\".format(len(dFrame.loc[dFrame[\"Rock n roll\"] > 5])))\n",
    "print(\"# rows are > 5 -Do you like music alternative?-: {0}\".format(len(dFrame.loc[dFrame[\"Alternative\"] > 5])))\n",
    "print(\"# rows are > 5 -Do you like music laino?-: {0}\".format(len(dFrame.loc[dFrame[\"Latino\"] > 5])))\n",
    "print(\"# rows are > 5 -Do you like music techno?-: {0}\".format(len(dFrame.loc[dFrame[\"Techno, Trance\"] > 5])))\n",
    "print(\"# rows are > 5 -Do you like music opera?-: {0}\".format(len(dFrame.loc[dFrame[\"Opera\"] > 5])))\n",
    "print(\"# rows are > 5 -Do you like movies at all?-: {0}\".format(len(dFrame.loc[dFrame['Movies'] > 5])))\n",
    "print(\"# rows are > 5 -Do you like horror?-: {0}\".format(len(dFrame.loc[dFrame['Horror'] > 5])))\n",
    "print(\"# rows are > 5 -Do you like thriller?-: {0}\".format(len(dFrame.loc[dFrame['Thriller'] > 5])))\n",
    "print(\"# rows are > 5 -Do you like comedy?-: {0}\".format(len(dFrame.loc[dFrame['Comedy'] > 5])))\n",
    "print(\"# rows are > 5 -Do you like romantic?-: {0}\".format(len(dFrame.loc[dFrame['Romantic'] > 5])))\n",
    "print(\"# rows are > 5 -Do you like sci-fi?-: {0}\".format(len(dFrame.loc[dFrame['Sci-fi'] > 5])))\n",
    "print(\"# rows are > 5 -Do you like war?-: {0}\".format(len(dFrame.loc[dFrame['War'] > 5])))\n",
    "print(\"# rows are > 5 -Do you like fantasy?-: {0}\".format(len(dFrame.loc[dFrame['Fantasy/Fairy tales'] > 5])))\n",
    "print(\"# rows are > 5 -Do you like animated?-: {0}\".format(len(dFrame.loc[dFrame['Animated'] > 5])))\n",
    "print(\"# rows are > 5 -Do you like documentary?-: {0}\".format(len(dFrame.loc[dFrame['Documentary'] > 5])))\n",
    "print(\"# rows are > 5 -Do you like western?-: {0}\".format(len(dFrame.loc[dFrame['Western'] > 5])))\n",
    "print(\"# rows are > 5 -Do you like action?-: {0}\".format(len(dFrame.loc[dFrame['Action'] > 5])))"
   ]
  },
  {
   "cell_type": "code",
   "execution_count": null,
   "metadata": {
    "collapsed": true
   },
   "outputs": [],
   "source": []
  }
 ],
 "metadata": {
  "kernelspec": {
   "display_name": "Python 3",
   "language": "python",
   "name": "python3"
  },
  "language_info": {
   "codemirror_mode": {
    "name": "ipython",
    "version": 3
   },
   "file_extension": ".py",
   "mimetype": "text/x-python",
   "name": "python",
   "nbconvert_exporter": "python",
   "pygments_lexer": "ipython3",
   "version": "3.6.0"
  }
 },
 "nbformat": 4,
 "nbformat_minor": 2
}
